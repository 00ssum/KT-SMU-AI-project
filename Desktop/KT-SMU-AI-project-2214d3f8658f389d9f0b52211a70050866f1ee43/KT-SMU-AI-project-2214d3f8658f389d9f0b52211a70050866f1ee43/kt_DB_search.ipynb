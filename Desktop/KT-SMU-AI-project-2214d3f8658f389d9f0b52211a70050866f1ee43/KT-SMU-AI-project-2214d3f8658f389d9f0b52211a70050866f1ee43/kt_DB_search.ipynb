{
  "nbformat": 4,
  "nbformat_minor": 0,
  "metadata": {
    "colab": {
      "name": "kt-DB_search.ipynb",
      "provenance": [],
      "authorship_tag": "ABX9TyNidR4Xf06EDwsqKZnJmOd2",
      "include_colab_link": true
    },
    "kernelspec": {
      "name": "python3",
      "display_name": "Python 3"
    },
    "language_info": {
      "name": "python"
    }
  },
  "cells": [
    {
      "cell_type": "markdown",
      "metadata": {
        "id": "view-in-github",
        "colab_type": "text"
      },
      "source": [
        "<a href=\"https://colab.research.google.com/github/00ssum/KT-SMU-AI-project/blob/main/kt_DB_search.ipynb\" target=\"_parent\"><img src=\"https://colab.research.google.com/assets/colab-badge.svg\" alt=\"Open In Colab\"/></a>"
      ]
    },
    {
      "cell_type": "code",
      "execution_count": 2,
      "metadata": {
        "colab": {
          "base_uri": "https://localhost:8080/"
        },
        "id": "0rnBS74TgsEg",
        "outputId": "7f0be2ba-d834-448e-b7eb-43df98e7c0d2"
      },
      "outputs": [
        {
          "output_type": "stream",
          "name": "stdout",
          "text": [
            "Looking in indexes: https://pypi.org/simple, https://us-python.pkg.dev/colab-wheels/public/simple/\n",
            "Collecting pymysql\n",
            "  Downloading PyMySQL-1.0.2-py3-none-any.whl (43 kB)\n",
            "\u001b[K     |████████████████████████████████| 43 kB 1.6 MB/s \n",
            "\u001b[?25hInstalling collected packages: pymysql\n",
            "Successfully installed pymysql-1.0.2\n"
          ]
        }
      ],
      "source": [
        "! pip install pymysql "
      ]
    },
    {
      "cell_type": "code",
      "source": [
        "import pymysql"
      ],
      "metadata": {
        "id": "81OY65TvgxBA"
      },
      "execution_count": 3,
      "outputs": []
    },
    {
      "cell_type": "code",
      "source": [
        "conn = pymysql.connect(\n",
        "        host='database-2.cdv8ov56qedi.ap-northeast-2.rds.amazonaws.com',\n",
        "        db=\"KTDB\", user='admin', password='sjw04050', charset='utf8mb4')\n",
        "cur = conn.cursor()"
      ],
      "metadata": {
        "id": "z0f4lEqek9gy"
      },
      "execution_count": 23,
      "outputs": []
    },
    {
      "cell_type": "code",
      "source": [
        "query = \"SELECT * FROM puppy\"\n",
        "\n",
        "with conn:\n",
        "    with conn.cursor() as cur:\n",
        "        cur.execute(query)\n",
        "        result = cur.fetchall()\n",
        "        for data in result:\n",
        "            print(data)"
      ],
      "metadata": {
        "colab": {
          "base_uri": "https://localhost:8080/"
        },
        "id": "niNNhij7g7x6",
        "outputId": "c353f8c0-8101-46d3-efdc-78b52e1d6ce9"
      },
      "execution_count": 22,
      "outputs": [
        {
          "output_type": "stream",
          "name": "stdout",
          "text": [
            "(0, 'filename', 'date', 'location', 'breed', '보호소', None)\n",
            "(1, 'abandoned1', '2022.07.27', '동대문구', '푸들', '한국동물구조관리협회 ', None)\n",
            "(2, 'abandoned2', '2022.07.16', '중랑구', '포메라니안', '한국동물구조관리협회 ', None)\n",
            "(3, 'abandoned3', '2022.07.26', '노원구', '포메라니안', '노원반려동물문화센터', None)\n",
            "(4, 'abandoned4', '2022.07.23', '양천구', '차우차우', '강현림동물병원 ', None)\n",
            "(5, 'abandoned5', '2022.08.04', '영등포구', '프렌치불독', '한국동물구조관리협회 ', None)\n",
            "(6, 'abandoned6', '2022.07.30', '강북구', '시츄', '한국동물구조관리협회 ', None)\n",
            "(7, 'abandoned7', '2022.07.28', '은평구', '슈나우저', '한국동물구조관리협회 ', None)\n",
            "(8, 'abandoned8', '2022.07.29', '광진구', '푸들', '한국동물구조관리협회 ', None)\n",
            "(9, 'abandoned9', '2022.07.26', '관악구', '푸들', '강현림동물병원 ', None)\n",
            "(10, 'abandoned10', '2022.08.04', '도봉구', '시바견', '한국동물구조관리협회 ', None)\n",
            "(11, 'abnadoned11', '2022.07.29', '강서구', '프렌치불독', '한국동물구조관리협회 ', None)\n",
            "(12, 'abnadoned12', '2022.07.27', '성북구', '시츄', '한국동물구조관리협회 ', None)\n",
            "(13, 'abandoned13', '2022.07.26', '성북구', '요크셔테리어', '한국동물구조관리협회 ', None)\n",
            "(14, 'abandoned14', '2022.07.23', '강서구', '스피츠', '한국동물구조관리협회 ', None)\n",
            "(15, 'abandoned15', '2022.07.17', '송파구', '스피츠', '한국동물구조관리협회 ', None)\n",
            "(16, 'abandoned16', '2022.07.15', '강남구', '말티즈', '한국동물구조관리협회 ', None)\n",
            "(17, 'abandoned17', '2022.06.05', '중랑구', '비숑프리제', '한국동물구조관리협회 ', None)\n",
            "(18, 'abandoned18', '2022.05.20', '도봉구', '요크셔테리어', '한국동물구조관리협회 ', None)\n",
            "(19, 'abandoned19', '2022.07.28', '관악구', '치와와', '강현림동물병원 ', None)\n",
            "(20, 'abandoned20', '2022.07.14', '구로구', '말티즈 ', '한국동물구조관리협회 ', None)\n",
            "(21, 'abandoned21', '2022.07.13', '금천구', '포메라니안', '한국동물구조관리협회 ', None)\n",
            "(22, 'abandoned22', '2022.07.13', '강남구', '푸들', '한국동물구조관리협회 ', None)\n",
            "(23, 'abandoned23', '2022.06.16', '동작구', '포메라니안', '디아크동물종합병원', None)\n",
            "(24, 'abandoned24', '2022.06.15', '구로구', '포메라니안', '한국동물구조관리협회 ', None)\n",
            "(25, 'abandoned25', '2022.06.13', '중랑구', '말티즈 ', '한국동물구조관리협회 ', None)\n",
            "(26, 'abandoned26', '2022.06.05', '중랑구', '비숑프리제', '한국동물구조관리협회 ', None)\n",
            "(27, 'abandoned27', '2022.05.20', '도봉구', '요크셔테리어', '한국동물구조관리협회 ', None)\n",
            "(28, 'abandoned28', '2022.03.02', '중랑구', '말티즈 ', '한국동물구조관리협회 ', None)\n",
            "(29, 'abandoned29', '2022.08.04', '구로구', '시츄', '한국동물구조관리협회 ', None)\n",
            "(30, 'abandoned30', '2022.06.17', '서초구', '포메라니안', '서초동물사랑센터 ', None)\n",
            "(31, 'abandoned31', '2022.04.04', '마포구', '진도견', '서초동물사랑센터 ', None)\n",
            "(32, 'abandoned32', '2022.08.06', '관악구', '시베리안 허스키', '강현림동물병원 ', None)\n",
            "(33, 'abandoned33', '2022.08.06', '관악구', '시츄', '강현림동물병원 ', None)\n",
            "(34, 'abandoned34', '2022.08.05', '영등포구', '푸들', '한국동물구조관리협회 ', None)\n",
            "(35, 'abandoned35', '2022.08.03', '성북구', '퍼그', '한국동물구조관리협회 ', None)\n",
            "(36, 'abandoned36', '2022.08.01', '중랑구', '포메라니안', '한국동물구조관리협회 ', None)\n",
            "(37, 'abandoned37', '2022.07.11', '종로구', '골든 리트리버', '한국동물구조관리협회 ', None)\n",
            "(38, 'abandoned38', '2022.07.11', '동대문구', '시바견', '한국동물구조관리협회 ', None)\n",
            "(39, 'abandoned39', '2022.06.30', '용산구', '보스턴 테리어', '한국동물구조관리협회 ', None)\n",
            "(40, 'abandoned40', '2022.06.28', '중랑구', '스피츠', '한국동물구조관리협회 ', None)\n",
            "(41, 'abandoned41', '2022.08.09', '종로구', '믹스견', '한국동물구조관리협회 ', None)\n",
            "(42, 'abandoned42', '2022.08.09', '성동구', '믹스견', '한국동물구조관리협회 ', None)\n",
            "(43, 'abandoned43', '2022.08.09', '강북구', '시바견', '한국동물구조관리협회 ', None)\n",
            "(44, 'abandoned44', '2022.08.09', '성동구', '믹스견', '한국동물구조관리협회 ', None)\n",
            "(45, 'abandoned45', '2022.08.08', '강남구', '믹스견', '한국동물구조관리협회 ', None)\n",
            "(46, 'abandoned46', '2022.08.08', '구로구', '푸들', '한국동물구조관리협회 ', None)\n",
            "(47, 'abandoned47', '2022.08.08', '마포구', '믹스견', '홍익동물병원', None)\n",
            "(48, 'abandoned48', '2022.08.08', '강북구', '푸들', '한국동물구조관리협회 ', None)\n",
            "(49, 'abandoned49', '2022.08.08', '중랑구', '치와와', '한국동물구조관리협회 ', None)\n",
            "(50, 'abandoned50', '2022.08.12', '관악구', '요크셔테리어', '강현림동물병원 ', None)\n",
            "(51, 'abandoned51', '2022.08.12', '서대문구', '믹스견', '한국동물구조관리협회 ', None)\n",
            "(52, 'abandoned52', '2022.08.12', '강북구', '치와와', '한국동물구조관리협회 ', None)\n",
            "(53, 'abandoned53', '2022.08.12', '중구', '시바견', '한국동물구조관리협회 ', None)\n",
            "(54, 'abandoned54', '2022.08.12', '관악구', '시츄', '강현림동물병원 ', None)\n",
            "(55, 'abandoned55', '2022.08.11', '영등포구', '믹스견', '한국동물구조관리협회 ', None)\n",
            "(56, 'abandoned56', '2022.08.11', '구로구', '믹스견', '한국동물구조관리협회 ', None)\n",
            "(57, 'abandoned57', '2022.08.11', '마포구', '닥스훈트', '홍익동물병원', None)\n",
            "(58, 'abandoned58', '2022.08.11', '동대문구', '말티즈', '한국동물구조관리협회 ', None)\n",
            "(59, 'abandoned59', '2022.08.10', '중랑구', '믹스견', '한국동물구조관리협회 ', None)\n",
            "(60, 'abandoned60', '2022.08.10', '광진구', '아메리칸불리', '한국동물구조관리협회 ', None)\n",
            "(61, 'abandoned61', '2022.07.14', '광진구', '프렌치불독', '한국동물구조관리협회 ', None)\n",
            "(62, 'abandoned62', '2022.07.18', '중랑구', '믹스견', '한국동물구조관리협회 ', None)\n",
            "(63, 'abandoned63', '2022.07.18', '금천구', '믹스견', '한국동물구조관리협회 ', None)\n",
            "(64, 'abandoned64', '2022.07.19', '금천구', '프렌치불독', '한국동물구조관리협회 ', None)\n",
            "(65, 'abandoned65', '2022.07.20', '종로구', '믹스견', '한국동물구조관리협회 ', None)\n",
            "(66, 'abandoned66', '2022.07.20', '강동구', '믹스견', '둔촌동물병원', None)\n",
            "(67, 'abandoned67', '2022.07.21', '강북구', '믹스견', '한국동물구조관리협회 ', None)\n",
            "(68, 'abandoned68', '2022.07.22', '광진구', '믹스견', '한국동물구조관리협회 ', None)\n",
            "(69, 'abandoned69', '2022.07.23', '동대문구', '푸들', '한국동물구조관리협회 ', None)\n",
            "(70, 'abandoned70', '2022.07.23', '강북구', '믹스견', '한국동물구조관리협회 ', None)\n",
            "(71, 'abandoned71', '2022.07.24', '서대문구', '푸들', '한국동물구조관리협회 ', None)\n",
            "(72, 'abandoned72', '2022.07.25', '노원구', '믹스견', '한국동물구조관리협회 ', None)\n",
            "(73, 'abandoned73', '2022.08.08', '중구', '믹스견', '한국동물구조관리협회 ', None)\n",
            "(74, 'abandoned74', '2022.08.08', '구로구', '푸들', '한국동물구조관리협회 ', None)\n",
            "(75, 'abandoned75', '2022.08.03', '용산구', '믹스견', '남산동물병원', None)\n",
            "(76, 'abandoned76', '2022.08.04', '노원구', '믹스견', '한국동물구조관리협회 ', None)\n",
            "(77, 'abandoned77', '2022.08.07', '송파구', '믹스견', '한국동물구조관리협회 ', None)\n",
            "(78, 'abandoned78', '2022.08.07', '관악구', '진도견', '강현림동물병원 ', None)\n",
            "(79, 'abandoned79', '2022.08.07', '서대문구', '골든 리트리버', '한국동물구조관리협회 ', None)\n",
            "(80, 'abandoned80', '2022.08.06', '강남구', '도베르만', '한국동물구조관리협회 ', None)\n"
          ]
        }
      ]
    },
    {
      "cell_type": "code",
      "source": [
        "loc=input()"
      ],
      "metadata": {
        "colab": {
          "base_uri": "https://localhost:8080/"
        },
        "id": "NxxP-nA3lcpF",
        "outputId": "25b42a7b-3ce8-4ae5-b4ff-cbf5085c4014"
      },
      "execution_count": 46,
      "outputs": [
        {
          "name": "stdout",
          "output_type": "stream",
          "text": [
            "강남구\n"
          ]
        }
      ]
    },
    {
      "cell_type": "code",
      "source": [
        "conn = pymysql.connect(\n",
        "        host='database-2.cdv8ov56qedi.ap-northeast-2.rds.amazonaws.com',\n",
        "        db=\"KTDB\", user='admin', password='sjw04050', charset='utf8mb4')\n",
        "cur = conn.cursor()"
      ],
      "metadata": {
        "id": "HLobNb89lPTV"
      },
      "execution_count": 47,
      "outputs": []
    },
    {
      "cell_type": "code",
      "source": [
        "query = \"SELECT * FROM puppy where location = %s\"\n",
        "with conn:\n",
        "    with conn.cursor() as cur:\n",
        "        cur.execute(query , (loc))\n",
        "        result = cur.fetchall()\n",
        "        for data in result:\n",
        "            print(data)"
      ],
      "metadata": {
        "colab": {
          "base_uri": "https://localhost:8080/"
        },
        "id": "jY7XjKnplcIS",
        "outputId": "7bd05db8-c65b-4c30-f916-2432cce1ba05"
      },
      "execution_count": 48,
      "outputs": [
        {
          "output_type": "stream",
          "name": "stdout",
          "text": [
            "(16, 'abandoned16', '2022.07.15', '강남구', '말티즈', '한국동물구조관리협회 ', None)\n",
            "(22, 'abandoned22', '2022.07.13', '강남구', '푸들', '한국동물구조관리협회 ', None)\n",
            "(45, 'abandoned45', '2022.08.08', '강남구', '믹스견', '한국동물구조관리협회 ', None)\n",
            "(80, 'abandoned80', '2022.08.06', '강남구', '도베르만', '한국동물구조관리협회 ', None)\n"
          ]
        }
      ]
    },
    {
      "cell_type": "code",
      "source": [
        "dd=input()"
      ],
      "metadata": {
        "colab": {
          "base_uri": "https://localhost:8080/"
        },
        "id": "hrltl0fPmVJ6",
        "outputId": "ee8e6499-30ce-4c6a-8b49-66a64dfd407d"
      },
      "execution_count": 49,
      "outputs": [
        {
          "name": "stdout",
          "output_type": "stream",
          "text": [
            "2022.07.15\n"
          ]
        }
      ]
    },
    {
      "cell_type": "code",
      "source": [
        "conn = pymysql.connect(\n",
        "        host='database-2.cdv8ov56qedi.ap-northeast-2.rds.amazonaws.com',\n",
        "        db=\"KTDB\", user='admin', password='sjw04050', charset='utf8mb4')\n",
        "cur = conn.cursor()"
      ],
      "metadata": {
        "id": "eA2Pyo1Smntt"
      },
      "execution_count": 50,
      "outputs": []
    },
    {
      "cell_type": "code",
      "source": [
        "query = \"SELECT * FROM puppy where location = %s and date=%s\"\n",
        "with conn:\n",
        "    with conn.cursor() as cur:\n",
        "        cur.execute(query , (loc,dd))\n",
        "        result = cur.fetchall()\n",
        "        for data in result:\n",
        "            print(data)"
      ],
      "metadata": {
        "colab": {
          "base_uri": "https://localhost:8080/"
        },
        "id": "OttvTKxAmk9s",
        "outputId": "d47e2374-4e1d-4942-b2d4-7001da4a608e"
      },
      "execution_count": 51,
      "outputs": [
        {
          "output_type": "stream",
          "name": "stdout",
          "text": [
            "(16, 'abandoned16', '2022.07.15', '강남구', '말티즈', '한국동물구조관리협회 ', None)\n"
          ]
        }
      ]
    }
  ]
}